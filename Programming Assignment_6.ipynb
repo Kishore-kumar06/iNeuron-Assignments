{
 "cells": [
  {
   "attachments": {},
   "cell_type": "markdown",
   "id": "84a41a9f",
   "metadata": {},
   "source": [
    "# Programming Basic Assignment 6"
   ]
  },
  {
   "attachments": {},
   "cell_type": "markdown",
   "id": "a4b40558",
   "metadata": {},
   "source": [
    "### 1. Write a Python Program to Display Fibonacci Sequence Using Recursion?"
   ]
  },
  {
   "cell_type": "code",
   "execution_count": 1,
   "id": "1696f3b1",
   "metadata": {},
   "outputs": [
    {
     "name": "stdout",
     "output_type": "stream",
     "text": [
      "Fibonacci Series of 10 is 0 1 1 2 3 5 8 13 21 34 "
     ]
    }
   ],
   "source": [
    "def fibonacci(n):\n",
    "    if n <= 1:\n",
    "        return n\n",
    "    else:\n",
    "        return (fibonacci(n - 1) + fibonacci(n - 2))\n",
    "    \n",
    "num = 10\n",
    "if num <=0:\n",
    "    print(\"Enter positive number\")\n",
    "else:\n",
    "    print(\"Fibonacci Series of\",num,\"is\", end=\" \")\n",
    "    for i in range(num):\n",
    "        print(fibonacci(i),end=\" \")"
   ]
  },
  {
   "attachments": {},
   "cell_type": "markdown",
   "id": "d7a57f60",
   "metadata": {},
   "source": [
    "### 2. Write a Python Program to Find Factorial of Number Using Recursion?"
   ]
  },
  {
   "cell_type": "code",
   "execution_count": 4,
   "id": "eb401415",
   "metadata": {},
   "outputs": [
    {
     "name": "stdout",
     "output_type": "stream",
     "text": [
      "Factorial of 5 is 120\n"
     ]
    }
   ],
   "source": [
    "def factorial(n):\n",
    "    if n == 0:\n",
    "        return 1\n",
    "    \n",
    "    return n * factorial(n - 1)\n",
    "\n",
    "num = 5\n",
    "fact = factorial(num)\n",
    "print(\"Factorial of\", num, \"is\", fact)"
   ]
  },
  {
   "attachments": {},
   "cell_type": "markdown",
   "id": "0357b86f",
   "metadata": {},
   "source": [
    "### 3. Write a Python Program to calculate your Body Mass Index?"
   ]
  },
  {
   "cell_type": "code",
   "execution_count": 8,
   "id": "ebec83de",
   "metadata": {},
   "outputs": [
    {
     "name": "stdout",
     "output_type": "stream",
     "text": [
      "Your BMI is 33.29864724245577\n"
     ]
    }
   ],
   "source": [
    "def Find_bmi(weight, height):\n",
    "    height_meters = height / 100\n",
    "    bmi = weight / (height_meters ** 2)\n",
    "    return bmi\n",
    "\n",
    "weight = float(input(\"Enter your weight in kilograms \"))\n",
    "height = float(input(\"Enter your height in centimeters \"))\n",
    "\n",
    "bmi = Find_bmi(weight, height)\n",
    "print(\"Your BMI is\",bmi)"
   ]
  },
  {
   "attachments": {},
   "cell_type": "markdown",
   "id": "96d344a4",
   "metadata": {},
   "source": [
    "### 4. Write a Python Program to calculate the natural logarithm of any number?"
   ]
  },
  {
   "cell_type": "code",
   "execution_count": 9,
   "id": "644a55eb",
   "metadata": {},
   "outputs": [
    {
     "name": "stdout",
     "output_type": "stream",
     "text": [
      "The natural logarithm of 6.0 is 1.791759469228055\n"
     ]
    }
   ],
   "source": [
    "import math\n",
    "def Find_natural_log(n):\n",
    "    result = math.log(n)\n",
    "    return result\n",
    "\n",
    "number = float(input(\"Enter any number\"))\n",
    "logvalue = Find_natural_log(number)\n",
    "print(\"The natural logarithm of\", number, \"is\", logvalue)\n"
   ]
  },
  {
   "attachments": {},
   "cell_type": "markdown",
   "id": "11c0d92c",
   "metadata": {},
   "source": [
    "\n",
    "### 5. Write a Python Program for cube sum of first n natural numbers?\n"
   ]
  },
  {
   "cell_type": "code",
   "execution_count": 14,
   "id": "22a352c9",
   "metadata": {},
   "outputs": [
    {
     "name": "stdout",
     "output_type": "stream",
     "text": [
      "The cube sum of the first 5 natural number is 225\n"
     ]
    }
   ],
   "source": [
    "def Find_cube_sum(n):\n",
    "    cube_sum = 0\n",
    "    for i in range(1, n + 1):\n",
    "        cube_sum += i ** 3\n",
    "    return cube_sum\n",
    "\n",
    "num = int(input(\"Enter a number\"))\n",
    "result = Find_cube_sum(num)\n",
    "print(\"The cube sum of the first\",num, \"natural number is\",result)"
   ]
  }
 ],
 "metadata": {
  "kernelspec": {
   "display_name": "Python 3 (ipykernel)",
   "language": "python",
   "name": "python3"
  },
  "language_info": {
   "codemirror_mode": {
    "name": "ipython",
    "version": 3
   },
   "file_extension": ".py",
   "mimetype": "text/x-python",
   "name": "python",
   "nbconvert_exporter": "python",
   "pygments_lexer": "ipython3",
   "version": "3.11.3"
  }
 },
 "nbformat": 4,
 "nbformat_minor": 5
}
