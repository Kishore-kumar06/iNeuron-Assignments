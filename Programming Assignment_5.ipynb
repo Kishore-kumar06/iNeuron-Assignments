{
 "cells": [
  {
   "attachments": {},
   "cell_type": "markdown",
   "id": "4ac9602a",
   "metadata": {},
   "source": [
    "## Python Basic Programming Assignment - 5\n",
    "--------------\n"
   ]
  },
  {
   "attachments": {},
   "cell_type": "markdown",
   "id": "fdaeee06",
   "metadata": {},
   "source": [
    "### 1. Write a Python Program to Find LCM?"
   ]
  },
  {
   "cell_type": "code",
   "execution_count": 8,
   "id": "5a576746",
   "metadata": {},
   "outputs": [
    {
     "name": "stdout",
     "output_type": "stream",
     "text": [
      "LCM of 2 and 4 is 4\n"
     ]
    }
   ],
   "source": [
    "num1, num2 = 2, 4\n",
    "for i in range(max(num1, num2), 1 + (num1 * num2)):\n",
    "    if i % num1 == i % num2 == 0:\n",
    "        lcm = i\n",
    "        break\n",
    "print(\"LCM of\", num1 , \"and\", num2, \"is\", lcm)"
   ]
  },
  {
   "attachments": {},
   "cell_type": "markdown",
   "id": "2f459cdf",
   "metadata": {},
   "source": [
    "### 2. Write a Python Program to Find HCF?"
   ]
  },
  {
   "cell_type": "code",
   "execution_count": 9,
   "id": "d26e6732",
   "metadata": {},
   "outputs": [
    {
     "name": "stdout",
     "output_type": "stream",
     "text": [
      "HCF of 12 and 24 is 6\n"
     ]
    }
   ],
   "source": [
    "num1, num2 = 12, 24\n",
    "hcf = 1\n",
    "for i in range(1, min(num1, num2)):\n",
    "    if num1 % i == 0 and num2 % i == 0:\n",
    "        hcf = i\n",
    "print(\"HCF of\", num1 , \"and\", num2, \"is\", hcf)"
   ]
  },
  {
   "attachments": {},
   "cell_type": "markdown",
   "id": "d2c29370",
   "metadata": {},
   "source": [
    "### 3. Write a Python Program to Convert Decimal to Binary, Octal and Hexadecimal?"
   ]
  },
  {
   "cell_type": "code",
   "execution_count": 5,
   "id": "46501e1f",
   "metadata": {},
   "outputs": [
    {
     "name": "stdout",
     "output_type": "stream",
     "text": [
      "101000 is the Binary number of 40\n",
      "50 is the Binary number of 40\n",
      "28 is the Binary number of 40\n"
     ]
    }
   ],
   "source": [
    "decimal_num = 40\n",
    "\n",
    "binary = bin(decimal_num)[2:]\n",
    "octal = oct(decimal_num)[2:]\n",
    "hexadecimal = hex(decimal_num)[2:]\n",
    "\n",
    "print(binary,\"is the Binary number of\",decimal_num)\n",
    "print(octal,\"is the Binary number of\",decimal_num)\n",
    "print(hexadecimal,\"is the Binary number of\",decimal_num)"
   ]
  },
  {
   "attachments": {},
   "cell_type": "markdown",
   "id": "2a16c5fd",
   "metadata": {},
   "source": [
    "### 4. Write a Python Program To Find ASCII value of a character?"
   ]
  },
  {
   "cell_type": "code",
   "execution_count": 9,
   "id": "a5aac126",
   "metadata": {},
   "outputs": [
    {
     "name": "stdout",
     "output_type": "stream",
     "text": [
      "The ASCII value of K is 75\n"
     ]
    }
   ],
   "source": [
    "char = 'K'\n",
    "Ascii = ord(char)\n",
    "print(\"The ASCII value of\", char, \"is\", Ascii)"
   ]
  },
  {
   "attachments": {},
   "cell_type": "markdown",
   "id": "226778a0",
   "metadata": {},
   "source": [
    "### 5. Write a Python Program to Make a Simple Calculator with 4 basic mathematical operations?"
   ]
  },
  {
   "cell_type": "code",
   "execution_count": 12,
   "id": "62bedd1a",
   "metadata": {},
   "outputs": [
    {
     "name": "stdout",
     "output_type": "stream",
     "text": [
      "Simple Calculator\n",
      "Select the operator\n",
      "1. Addition\n",
      "2. Subtration\n",
      "3. Multiplication\n",
      "4. Division\n",
      "50 - 5 = 45\n"
     ]
    }
   ],
   "source": [
    "def Calculator():\n",
    "    print(\"Simple Calculator\")\n",
    "    print(\"Select the operator\")\n",
    "    print(\"1. Addition\")\n",
    "    print(\"2. Subtration\")\n",
    "    print(\"3. Multiplication\")\n",
    "    print(\"4. Division\")\n",
    "\n",
    "    choice = input(\"Enter the choice (1-4)\")\n",
    "\n",
    "    if choice not in ['1','2','3','4']:\n",
    "        print(\"Choice is invalid\")\n",
    "        return\n",
    "    \n",
    "    num1 = 50\n",
    "    num2 = 5\n",
    "    \n",
    "    if choice == '1':\n",
    "        result = num1 + num2\n",
    "        opertor = '+'\n",
    "    elif choice == '2':\n",
    "        result = num1 - num2\n",
    "        opertor = '-'\n",
    "    elif choice == '3':\n",
    "        result = num1 * num2\n",
    "        opertor = '*'\n",
    "    elif choice == '4':\n",
    "        if num2 == 0:\n",
    "            print(\"Division by zeror is not valid\")\n",
    "            return\n",
    "        result = num1 / num2\n",
    "        opertor = '/'\n",
    "    print(f\"{num1} {opertor} {num2} = {result}\")\n",
    "\n",
    "Calculator()\n",
    "    "
   ]
  }
 ],
 "metadata": {
  "kernelspec": {
   "display_name": "Python 3 (ipykernel)",
   "language": "python",
   "name": "python3"
  },
  "language_info": {
   "codemirror_mode": {
    "name": "ipython",
    "version": 3
   },
   "file_extension": ".py",
   "mimetype": "text/x-python",
   "name": "python",
   "nbconvert_exporter": "python",
   "pygments_lexer": "ipython3",
   "version": "3.11.3"
  }
 },
 "nbformat": 4,
 "nbformat_minor": 5
}
