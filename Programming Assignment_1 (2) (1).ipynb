{
 "cells": [
  {
   "attachments": {},
   "cell_type": "markdown",
   "id": "637b47a5",
   "metadata": {},
   "source": [
    "## Programming Assignment_1\n",
    "-------------"
   ]
  },
  {
   "attachments": {},
   "cell_type": "markdown",
   "id": "0c647dbe",
   "metadata": {},
   "source": [
    "### 1. Write a Python program to print \"Hello Python\"?"
   ]
  },
  {
   "cell_type": "code",
   "execution_count": 5,
   "id": "e8c2bd27",
   "metadata": {},
   "outputs": [
    {
     "name": "stdout",
     "output_type": "stream",
     "text": [
      "Hello Pthon\n"
     ]
    }
   ],
   "source": [
    "print(\"Hello Pthon\")"
   ]
  },
  {
   "attachments": {},
   "cell_type": "markdown",
   "id": "fc18a6cd",
   "metadata": {},
   "source": [
    "### 2. Write a Python program to do arithmetical operations addition and division.?\n"
   ]
  },
  {
   "cell_type": "code",
   "execution_count": 6,
   "id": "01356b83",
   "metadata": {},
   "outputs": [
    {
     "name": "stdout",
     "output_type": "stream",
     "text": [
      "Addition of number1 and number2 is 15\n",
      "Division of number1 and number2 is 2.0\n"
     ]
    }
   ],
   "source": [
    "number1 = 10\n",
    "number2 = 5\n",
    "addition = number1 + number2\n",
    "division = number1 / number2\n",
    "print(\"Addition of number1 and number2 is\",addition)\n",
    "print(\"Division of number1 and number2 is\",division)"
   ]
  },
  {
   "attachments": {},
   "cell_type": "markdown",
   "id": "af6e2429",
   "metadata": {},
   "source": [
    "### 3. Write a Python program to find the area of a triangle?\n"
   ]
  },
  {
   "cell_type": "code",
   "execution_count": 7,
   "id": "158c2fa6",
   "metadata": {},
   "outputs": [
    {
     "name": "stdout",
     "output_type": "stream",
     "text": [
      "Area of a triangle is 15\n"
     ]
    }
   ],
   "source": [
    "number = 5\n",
    "side = number * 3\n",
    "print(\"Area of a triangle is\",side)"
   ]
  },
  {
   "attachments": {},
   "cell_type": "markdown",
   "id": "b8140061",
   "metadata": {},
   "source": [
    "### 4. Write a Python program to swap two variables?\n"
   ]
  },
  {
   "cell_type": "code",
   "execution_count": 8,
   "id": "084c3a54",
   "metadata": {},
   "outputs": [
    {
     "name": "stdout",
     "output_type": "stream",
     "text": [
      "Numbers before swapping 6 12\n",
      "Numbers after swapping 12 6\n"
     ]
    }
   ],
   "source": [
    "num1 = 6\n",
    "num2 = 12\n",
    "print(\"Numbers before swapping\",num1,num2)\n",
    "temp = num1\n",
    "num1 = num2\n",
    "num2 = temp\n",
    "print(\"Numbers after swapping\",num1,num2)"
   ]
  },
  {
   "attachments": {},
   "cell_type": "markdown",
   "id": "3f8054c1",
   "metadata": {},
   "source": [
    "### 5. Write a Python program to generate a random number?\n"
   ]
  },
  {
   "cell_type": "code",
   "execution_count": 9,
   "id": "17ba921c",
   "metadata": {},
   "outputs": [
    {
     "name": "stdout",
     "output_type": "stream",
     "text": [
      "88\n"
     ]
    }
   ],
   "source": [
    "import random\n",
    "numbers = random.randint(1,100)\n",
    "print(numbers)\n"
   ]
  }
 ],
 "metadata": {
  "kernelspec": {
   "display_name": "Python 3 (ipykernel)",
   "language": "python",
   "name": "python3"
  },
  "language_info": {
   "codemirror_mode": {
    "name": "ipython",
    "version": 3
   },
   "file_extension": ".py",
   "mimetype": "text/x-python",
   "name": "python",
   "nbconvert_exporter": "python",
   "pygments_lexer": "ipython3",
   "version": "3.11.3"
  }
 },
 "nbformat": 4,
 "nbformat_minor": 5
}
