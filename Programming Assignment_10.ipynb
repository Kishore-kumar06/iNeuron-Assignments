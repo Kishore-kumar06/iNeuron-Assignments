{
 "cells": [
  {
   "attachments": {},
   "cell_type": "markdown",
   "id": "3dcb940f",
   "metadata": {},
   "source": [
    "## Python Basic Programming Assignment 10"
   ]
  },
  {
   "attachments": {},
   "cell_type": "markdown",
   "id": "6720790a",
   "metadata": {},
   "source": [
    "### 1. Write a Python program to find sum of elements in list?"
   ]
  },
  {
   "cell_type": "code",
   "execution_count": 1,
   "id": "dfa73b2b",
   "metadata": {},
   "outputs": [
    {
     "name": "stdout",
     "output_type": "stream",
     "text": [
      "Sum of elements in the list is: 358\n"
     ]
    }
   ],
   "source": [
    "def sum_of_elements(list):\n",
    "    sum = 0\n",
    "    for num in list:\n",
    "        sum +=num\n",
    "    return sum\n",
    "\n",
    "numbers = [3,96,53,89,2,0,8,2,44,61]\n",
    "result = sum_of_elements(numbers)\n",
    "print(\"Sum of elements in the list is:\",result)"
   ]
  },
  {
   "attachments": {},
   "cell_type": "markdown",
   "id": "fe1137c3",
   "metadata": {},
   "source": [
    "### 2. Write a Python program to  Multiply all numbers in the list?"
   ]
  },
  {
   "cell_type": "code",
   "execution_count": 7,
   "id": "6ee7f860",
   "metadata": {},
   "outputs": [
    {
     "name": "stdout",
     "output_type": "stream",
     "text": [
      "Product of elements in the list is: 5040\n"
     ]
    }
   ],
   "source": [
    "def multiply_of_elements(list):\n",
    "    product = 1\n",
    "    for num in list:\n",
    "        product *= num\n",
    "    return product\n",
    "\n",
    "numbers = [1,2,3,4,5,6,7]\n",
    "result = multiply_of_elements(numbers)\n",
    "print(\"Product of elements in the list is:\",result)"
   ]
  },
  {
   "attachments": {},
   "cell_type": "markdown",
   "id": "078681db",
   "metadata": {},
   "source": [
    "### 3. Write a Python program to find smallest number in a list?"
   ]
  },
  {
   "cell_type": "code",
   "execution_count": 8,
   "id": "427ef66a",
   "metadata": {},
   "outputs": [
    {
     "name": "stdout",
     "output_type": "stream",
     "text": [
      "Smallest number in the list is: 4\n"
     ]
    }
   ],
   "source": [
    "def smallest_number(list):\n",
    "    result = min(list)\n",
    "    return result\n",
    "\n",
    "numbers = [11,21,76,4,5,76,7]\n",
    "result = smallest_number(numbers)\n",
    "print(\"Smallest number in the list is:\",result)"
   ]
  },
  {
   "attachments": {},
   "cell_type": "markdown",
   "id": "12b04397",
   "metadata": {},
   "source": [
    "### 4. Write a Python program to find largest number in a list?"
   ]
  },
  {
   "cell_type": "code",
   "execution_count": 1,
   "id": "f28109cd",
   "metadata": {},
   "outputs": [
    {
     "name": "stdout",
     "output_type": "stream",
     "text": [
      "Largest number in the list is: 90\n"
     ]
    }
   ],
   "source": [
    "def smallest_number(list):\n",
    "    result = max(list)\n",
    "    \n",
    "    return result\n",
    "\n",
    "numbers = [10,1,76,14,5,6,90]\n",
    "result = smallest_number(numbers)\n",
    "print(\"Largest number in the list is:\",result)"
   ]
  },
  {
   "attachments": {},
   "cell_type": "markdown",
   "id": "86442b51",
   "metadata": {},
   "source": [
    "### 5. Write a Python program to find second largest number in a list?"
   ]
  },
  {
   "cell_type": "code",
   "execution_count": 4,
   "id": "3c17d240",
   "metadata": {},
   "outputs": [
    {
     "name": "stdout",
     "output_type": "stream",
     "text": [
      "The second largest number in the list is 88\n"
     ]
    }
   ],
   "source": [
    "def second_largest_number(numbers):\n",
    "    if len(numbers) < 2:\n",
    "        return None\n",
    "    \n",
    "    largest = float('-inf')\n",
    "    second_larest = float('-inf')\n",
    "\n",
    "    for num in numbers:\n",
    "        if num > largest:\n",
    "            second_larest = largest\n",
    "            largest = num\n",
    "        elif num > second_larest and num != largest:\n",
    "            second_larest = num\n",
    "    \n",
    "    if second_larest == float('-inf'):\n",
    "        return None\n",
    "    else:\n",
    "        return second_larest\n",
    "    \n",
    "list = [4,86,7,98,43,76,56,12,88,65]\n",
    "result = second_largest_number(list)\n",
    "\n",
    "if result is not None:\n",
    "    print(\"The second largest number in the list is\", result)\n",
    "else:\n",
    "    print(\"There is no second largest number in the list\")\n"
   ]
  },
  {
   "attachments": {},
   "cell_type": "markdown",
   "id": "10964d7d",
   "metadata": {},
   "source": [
    "### 6. Write a Python program to find N largest elements from a list?"
   ]
  },
  {
   "cell_type": "code",
   "execution_count": 5,
   "id": "4ef5748f",
   "metadata": {},
   "outputs": [
    {
     "name": "stdout",
     "output_type": "stream",
     "text": [
      "The 5 largest element in the list are: [75, 72, 43, 43, 32]\n"
     ]
    }
   ],
   "source": [
    "import heapq\n",
    "\n",
    "def find_n_largest(num, n):\n",
    "    return heapq.nlargest(n, num)\n",
    "\n",
    "list = [23,75,9,43,12,32,19,72,43]\n",
    "n = 5\n",
    "result = find_n_largest(list, n)\n",
    "\n",
    "print(f\"The {n} largest element in the list are: {result}\")\n"
   ]
  },
  {
   "attachments": {},
   "cell_type": "markdown",
   "id": "2f1a1e98",
   "metadata": {},
   "source": [
    "### 7. Write a Python program to print even numbers in a list?"
   ]
  },
  {
   "cell_type": "code",
   "execution_count": 9,
   "id": "70d860b5",
   "metadata": {},
   "outputs": [
    {
     "name": "stdout",
     "output_type": "stream",
     "text": [
      "6\n",
      "4\n",
      "20\n",
      "18\n",
      "62\n",
      "8\n",
      "Even numbers in list None\n"
     ]
    }
   ],
   "source": [
    "def print_even_numbers(numbers):\n",
    "    for i in numbers:\n",
    "        if i % 2 == 0:\n",
    "            print(i)\n",
    "\n",
    "list = [6,4,9,11,73,20,18,19,62,3,5,9,13,8]\n",
    "print(\"Even numbers in list\", print_even_numbers(list))"
   ]
  },
  {
   "attachments": {},
   "cell_type": "markdown",
   "id": "989bb324",
   "metadata": {},
   "source": [
    "### 8. Write a Python program to print odd numbers in a List?"
   ]
  },
  {
   "cell_type": "code",
   "execution_count": 13,
   "id": "ccdbc28a",
   "metadata": {},
   "outputs": [
    {
     "name": "stdout",
     "output_type": "stream",
     "text": [
      "9\n",
      "11\n",
      "73\n",
      "19\n",
      "3\n",
      "5\n",
      "9\n",
      "13\n",
      "Odd numbers in list None\n"
     ]
    }
   ],
   "source": [
    "def print_odd_numbers(numbers):\n",
    "    for i in numbers:\n",
    "        if i % 2 != 0:\n",
    "            print(i)\n",
    "\n",
    "list = [6,4,9,11,73,20,18,19,62,3,5,9,13,8]\n",
    "print(\"Odd numbers in list\", print_odd_numbers(list))"
   ]
  },
  {
   "attachments": {},
   "cell_type": "markdown",
   "id": "185b7b13",
   "metadata": {},
   "source": [
    "### 9. Write a Python program to Remove empty List from List?"
   ]
  },
  {
   "cell_type": "code",
   "execution_count": 18,
   "id": "79756a3a",
   "metadata": {},
   "outputs": [
    {
     "name": "stdout",
     "output_type": "stream",
     "text": [
      "List after removing empty list: [1, [2], 4, 6, 8, [5], 7, 9, 10]\n"
     ]
    }
   ],
   "source": [
    "def remove_empty_list(lst):\n",
    "    return [sublist for sublist in lst if sublist]\n",
    "\n",
    "my_list = [1,[2],4,6,8,[5], 7,[],[],9,10]\n",
    "result = remove_empty_list(my_list)\n",
    "print(\"List after removing empty list:\", result)\n"
   ]
  },
  {
   "attachments": {},
   "cell_type": "markdown",
   "id": "278cfacc",
   "metadata": {},
   "source": [
    "### 10. Write a Python program to Cloning or Copying a list?"
   ]
  },
  {
   "cell_type": "code",
   "execution_count": 19,
   "id": "bb3db1f2",
   "metadata": {},
   "outputs": [
    {
     "name": "stdout",
     "output_type": "stream",
     "text": [
      "Original list: [5, 10, 15, 20, 25]\n",
      "Copied list: [5, 10, 15, 20, 25]\n"
     ]
    }
   ],
   "source": [
    "def copy_list(lst):\n",
    "    return lst.copy()\n",
    "\n",
    "my_list = [5,10,15,20,25]\n",
    "copied_list = copy_list(my_list)\n",
    "print(\"Original list:\", my_list)\n",
    "print(\"Copied list:\", copied_list)"
   ]
  },
  {
   "attachments": {},
   "cell_type": "markdown",
   "id": "b359bedf",
   "metadata": {},
   "source": [
    "### 11. Write a Python program to Count occurrences of an element in a list?"
   ]
  },
  {
   "cell_type": "code",
   "execution_count": 23,
   "id": "0bb1bc87",
   "metadata": {},
   "outputs": [
    {
     "name": "stdout",
     "output_type": "stream",
     "text": [
      "Occurrences of 6 in the list 3\n"
     ]
    }
   ],
   "source": [
    "def print_occurance_numbers(lst, element):\n",
    "    return lst.count(element)\n",
    "\n",
    "my_list = [6,4,9,11,11,73,20,18,19,62,3,3,5,9,13,6,6]\n",
    "element = 6\n",
    "occurance = print_occurance_numbers(my_list, element)\n",
    "print(\"Occurrences of\", element, \"in the list\", occurance)"
   ]
  }
 ],
 "metadata": {
  "kernelspec": {
   "display_name": "Python 3 (ipykernel)",
   "language": "python",
   "name": "python3"
  },
  "language_info": {
   "codemirror_mode": {
    "name": "ipython",
    "version": 3
   },
   "file_extension": ".py",
   "mimetype": "text/x-python",
   "name": "python",
   "nbconvert_exporter": "python",
   "pygments_lexer": "ipython3",
   "version": "3.11.3"
  }
 },
 "nbformat": 4,
 "nbformat_minor": 5
}
