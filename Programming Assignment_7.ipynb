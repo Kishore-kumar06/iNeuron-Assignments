{
 "cells": [
  {
   "attachments": {},
   "cell_type": "markdown",
   "id": "35297a20",
   "metadata": {},
   "source": [
    "## Programming Basic Assignment 7"
   ]
  },
  {
   "attachments": {},
   "cell_type": "markdown",
   "id": "27349114",
   "metadata": {},
   "source": [
    "### 1. Write a Python Program to find sum of array?"
   ]
  },
  {
   "cell_type": "code",
   "execution_count": 4,
   "id": "5396992b",
   "metadata": {},
   "outputs": [
    {
     "name": "stdout",
     "output_type": "stream",
     "text": [
      "Sum of the array is: 228\n"
     ]
    }
   ],
   "source": [
    "def find_sum(n):\n",
    "    sum = 0\n",
    "    for num in n:\n",
    "        sum += num\n",
    "    return sum\n",
    "\n",
    "array = [4,5,3,77,9,35,95]\n",
    "result = find_sum(array)\n",
    "print(\"Sum of the array is:\", result)"
   ]
  },
  {
   "attachments": {},
   "cell_type": "markdown",
   "id": "171a980d",
   "metadata": {},
   "source": [
    "### 2. Write a Python Program to find largest element in an array?\n"
   ]
  },
  {
   "cell_type": "code",
   "execution_count": 1,
   "id": "9aa6b93c",
   "metadata": {},
   "outputs": [
    {
     "name": "stdout",
     "output_type": "stream",
     "text": [
      "Largest number in the array is: 80\n"
     ]
    }
   ],
   "source": [
    "def find_latgest_element(A,n):\n",
    "    if (n == 1):\n",
    "        return A[0]\n",
    "    return max(A[n - 1], find_latgest_element(A, n - 1))\n",
    "\n",
    "array = [11,40,80,45,6,-50,70,10,2,54]\n",
    "number = len(array)\n",
    "largest_num =find_latgest_element(array,number)\n",
    "print(\"Largest number in the array is:\", largest_num)\n"
   ]
  },
  {
   "attachments": {},
   "cell_type": "markdown",
   "id": "21613246",
   "metadata": {},
   "source": [
    "### 3. Write a Python Program for array rotation?"
   ]
  },
  {
   "cell_type": "code",
   "execution_count": 8,
   "id": "97fdb2d9",
   "metadata": {},
   "outputs": [
    {
     "name": "stdout",
     "output_type": "stream",
     "text": [
      "Array before rotation\n",
      "[10, 20, 30, 40, 50, 60, 70, 80, 90, 100] \n",
      "\n",
      "Array after rotation\n",
      "[100, 90, 80, 70, 60, 50, 40, 30, 20, 10]\n"
     ]
    }
   ],
   "source": [
    "def reverse_array(arr):\n",
    "    print(arr[::-1])\n",
    "\n",
    "array = [10,20,30,40,50,60,70,80,90,100]\n",
    "print(\"Array before rotation\")\n",
    "print(array,\"\\n\")\n",
    "print(\"Array after rotation\")\n",
    "reverse_array(array)\n",
    "    "
   ]
  },
  {
   "attachments": {},
   "cell_type": "markdown",
   "id": "3e52d939",
   "metadata": {},
   "source": [
    "### 4. Write a Python Program to Split the array and add the first part to the end?"
   ]
  },
  {
   "cell_type": "code",
   "execution_count": 10,
   "id": "215c2f8c",
   "metadata": {},
   "outputs": [
    {
     "name": "stdout",
     "output_type": "stream",
     "text": [
      "Array before splitting: [1, 2, 3, 4, 5]\n",
      "Array after splitting [3, 4, 5, 1, 2]\n"
     ]
    }
   ],
   "source": [
    "def split_array(arr, n):\n",
    "    if n <= 0 or n >= len(arr):\n",
    "        return arr\n",
    "    \n",
    "    first_part = arr[:n]\n",
    "    second_part = arr[n:]\n",
    "    return second_part + first_part\n",
    "\n",
    "array = [1,2,3,4,5]\n",
    "n = 2\n",
    "print(\"Array before splitting:\", array)\n",
    "result = split_array(array, n)\n",
    "print(\"Array after splitting\",result)"
   ]
  },
  {
   "attachments": {},
   "cell_type": "markdown",
   "id": "aa375779",
   "metadata": {},
   "source": [
    "### 5. Write a Python Program to check if given array is Monotonic?"
   ]
  },
  {
   "cell_type": "code",
   "execution_count": 12,
   "id": "c743651f",
   "metadata": {},
   "outputs": [
    {
     "name": "stdout",
     "output_type": "stream",
     "text": [
      "True\n",
      "False\n"
     ]
    }
   ],
   "source": [
    "def is_monotonic(arr):\n",
    "    increasing = decreasing = True\n",
    "\n",
    "    for i in range(1, len(arr)):\n",
    "        if arr[i] < arr[i - 1]:\n",
    "            increasing = False\n",
    "        if arr[i] > arr[i - 1]:\n",
    "            decreasing = False\n",
    "\n",
    "    return increasing or decreasing\n",
    "\n",
    "array = [1,2,3,4,5]\n",
    "print(is_monotonic(array))\n",
    "\n",
    "array1 = [5,4,2,3,1]\n",
    "print(is_monotonic(array1))"
   ]
  }
 ],
 "metadata": {
  "kernelspec": {
   "display_name": "Python 3 (ipykernel)",
   "language": "python",
   "name": "python3"
  },
  "language_info": {
   "codemirror_mode": {
    "name": "ipython",
    "version": 3
   },
   "file_extension": ".py",
   "mimetype": "text/x-python",
   "name": "python",
   "nbconvert_exporter": "python",
   "pygments_lexer": "ipython3",
   "version": "3.11.3"
  }
 },
 "nbformat": 4,
 "nbformat_minor": 5
}
